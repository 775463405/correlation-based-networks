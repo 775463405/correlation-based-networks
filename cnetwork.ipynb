{
 "metadata": {
  "name": "nx_homework-Copy0"
 },
 "nbformat": 3,
 "nbformat_minor": 0,
 "worksheets": [
  {
   "cells": [
    {
     "cell_type": "code",
     "collapsed": false,
     "input": "## FOC-CRISIS school, 24-27 Oct 2012, Lucca\n##\n## Tutorial: Analysing financial networks in Python\n## by Michelangelo Puliga (ETH Zurich)\n##\n## Homework by Olga Pustovalova\n## PhD student in Computer Science, IMT Lucca\n## olga.pustovalova@imtlucca.it\n##\n## http://nbviewer.ipython.org/3950921/",
     "language": "python",
     "metadata": {},
     "outputs": []
    },
    {
     "cell_type": "code",
     "collapsed": false,
     "input": "## Preliminary arrangements: which companies and dates to choose?\n\n# UNH replaced KFT on 24 Sep 2012; the first change since 2009.\n# http://www.bloomberg.com/news/2012-09-14/unitedhealth-replaces-kraft-in-\n# dow-jones-industrial-average-1-.html\n# =>\n# We can take the data e.g. from 01 Jan 2010 to 23 Sep 2012,\n# when the Dow Jones companies stayed the same",
     "language": "python",
     "metadata": {},
     "outputs": []
    },
    {
     "cell_type": "code",
     "collapsed": false,
     "input": "# Dow Jones companies\ncompanies = ['MMM', 'AA', 'AXP', 'T', 'BAC',\n             'BA', 'CAT', 'CVX', 'CSCO', 'DD',\n             'XOM', 'GE', 'HPQ', 'HD', 'INTC',\n             'IBM', 'JNJ', 'JPM', 'MDC', 'MRK',\n             'MSFT', 'PFE', 'PG', 'KO', 'TRV',\n             'UTX', 'VZ', 'WMT', 'DIS', 'KFT']",
     "language": "python",
     "metadata": {},
     "outputs": []
    },
    {
     "cell_type": "code",
     "collapsed": false,
     "input": "## Download the data\n\nfrom pandas.io.data import *\n\ndata = dict()\nfor i in companies:\n    raw_data = DataReader(i, 'yahoo', start='01/01/2009', end='23/09/2012')\n    data[i] = raw_data['Close']  # we need closing prices only",
     "language": "python",
     "metadata": {},
     "outputs": []
    },
    {
     "cell_type": "code",
     "collapsed": false,
     "input": "## A quick visualization\n\nimport pylab\nimport random as rn\n\ncolors = 'bcgmry'\nrn.seed = len(companies)  # for choosing random colors\npylab.subplot('111')  # all time series on a single figure\n\nfor i in companies:\n    data[i].plot(style=colors[rn.randint(0, len(colors) - 1)])\npylab.show()",
     "language": "python",
     "metadata": {},
     "outputs": []
    },
    {
     "cell_type": "code",
     "collapsed": false,
     "input": "## Compute correlation matrix\n\nimport numpy as np\nn = len(companies)\ncorr_matrix = np.zeros((n, n))\n\nfor i in range(0, n):\n    for j in range(0, n):\n        if i < j:\n            corr_matrix[i][j] = data[companies[i]].corr(\n                                               data[companies[j]],\n                                               method='pearson')\n\n# Output\nnp.set_printoptions(precision=2)\nprint corr_matrix[0]",
     "language": "python",
     "metadata": {},
     "outputs": []
    },
    {
     "cell_type": "code",
     "collapsed": false,
     "input": "## Remove weak correlations to construct a graph\nthreshold = 0.7\ncorr_matrix[np.where(abs(corr_matrix) < threshold)] = 0\n\n# Output\nprint corr_matrix[0]",
     "language": "python",
     "metadata": {},
     "outputs": []
    },
    {
     "cell_type": "code",
     "collapsed": false,
     "input": "# Constructing a graph\nimport networkx as nx\nG = nx.Graph(corr_matrix)",
     "language": "python",
     "metadata": {},
     "outputs": []
    },
    {
     "cell_type": "code",
     "collapsed": false,
     "input": "# Connected components: color them differently\n\nrn.seed = 5  # for choosing random colors\ncomponents = nx.connected_components(G)\n\nfor i in components:\n    component = G.subgraph(i)\n    nx.draw_graphviz(component,\n        node_color = colors[rn.randint(0, len(colors) - 1)],\n        node_size = [component.degree(i) * 100 + 15\n                     for i in component.nodes()],\n        edge_color = [corr_matrix[i][j] * 0.5\n                      for (i, j) in component.edges()],\n        with_labels = True,\n        labels = dict([(x, companies[x]) for x in component.nodes()])\n        )\npylab.show()\n\nprint \"Smallest components (size < 5):\"\nfor i in components:\n    if len(i) < 5:\n        print [companies[j] for j in i]\n\nprint \"Companies with degrees < 5:\"\nprint [(companies[i], degrees[i]) for i in range(0, n) if degrees[i] < 5]",
     "language": "python",
     "metadata": {},
     "outputs": []
    },
    {
     "cell_type": "code",
     "collapsed": false,
     "input": "## Explore graph properties\n\nnodes, edges = G.order(), G.size()\nprint \"Number of nodes:\", nodes\nprint \"Number of edges:\", edges\nprint \"Average degree:\", edges / float(nodes)",
     "language": "python",
     "metadata": {},
     "outputs": []
    },
    {
     "cell_type": "code",
     "collapsed": false,
     "input": "## Count degrees\n\ndegrees = G.degree()\nvalues = sorted(set(degrees.values()))\ncounts = [degrees.values().count(x) for x in values]",
     "language": "python",
     "metadata": {},
     "outputs": []
    },
    {
     "cell_type": "code",
     "collapsed": false,
     "input": "# Generate colors -\n# http://stackoverflow.com/questions/876853/generating-\n# color-ranges-in-python\n\nimport colorsys\nncolors = len(values)\nHSV_tuples = [(x * 1.0 / ncolors, 0.5, 0.5) for x in range(ncolors)]\nRGB_tuples = map(lambda x: colorsys.hsv_to_rgb(*x), HSV_tuples)",
     "language": "python",
     "metadata": {},
     "outputs": []
    },
    {
     "cell_type": "code",
     "collapsed": false,
     "input": "# Plot degree distribution\npylab.xlabel('Degree')\npylab.ylabel('Number of nodes')\npylab.title('Dow Jones network: degree distribution')\npylab.bar(values, counts, color=RGB_tuples)\npylab.show()\n\nprint \"Highest degree:\", max(values)",
     "language": "python",
     "metadata": {},
     "outputs": []
    }
   ],
   "metadata": {}
  }
 ]
}